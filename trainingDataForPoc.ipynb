{
 "cells": [
  {
   "cell_type": "code",
   "execution_count": 1,
   "metadata": {},
   "outputs": [],
   "source": [
    "import pandas as pd"
   ]
  },
  {
   "cell_type": "code",
   "execution_count": 2,
   "metadata": {},
   "outputs": [
    {
     "name": "stderr",
     "output_type": "stream",
     "text": [
      "C:\\ProgramData\\Anaconda3\\lib\\site-packages\\IPython\\core\\interactiveshell.py:3058: DtypeWarning: Columns (7,12,23) have mixed types. Specify dtype option on import or set low_memory=False.\n",
      "  interactivity=interactivity, compiler=compiler, result=result)\n"
     ]
    }
   ],
   "source": [
    "textData=pd.read_csv(r\"C:\\Users\\Aadesh\\Desktop\\Aadesh\\Birlasoft\\Dataset\\VAERS\\2021VAERSDATA.csv\",encoding = \"ISO-8859-1\")\n",
    "symptomsData=pd.read_csv(r\"C:\\Users\\Aadesh\\Desktop\\Aadesh\\Birlasoft\\Dataset\\VAERS\\2021VAERSSYMPTOMS.csv\",encoding = \"ISO-8859-1\")"
   ]
  },
  {
   "cell_type": "code",
   "execution_count": 3,
   "metadata": {},
   "outputs": [],
   "source": [
    "MergedData=(pd.merge(textData, symptomsData, on='VAERS_ID'))"
   ]
  },
  {
   "cell_type": "code",
   "execution_count": 4,
   "metadata": {},
   "outputs": [],
   "source": [
    "cols = ['SYMPTOM1', 'SYMPTOM2', 'SYMPTOM3', 'SYMPTOM4',\"SYMPTOM5\"]\n",
    "MergedData['Symptoms'] = MergedData[cols].apply(lambda x: ','.join(x.dropna()), axis=1)"
   ]
  },
  {
   "cell_type": "code",
   "execution_count": 5,
   "metadata": {},
   "outputs": [],
   "source": [
    "trainingData= MergedData[['SYMPTOM_TEXT','Symptoms']]"
   ]
  },
  {
   "cell_type": "code",
   "execution_count": 6,
   "metadata": {},
   "outputs": [
    {
     "data": {
      "text/html": [
       "<div>\n",
       "<style scoped>\n",
       "    .dataframe tbody tr th:only-of-type {\n",
       "        vertical-align: middle;\n",
       "    }\n",
       "\n",
       "    .dataframe tbody tr th {\n",
       "        vertical-align: top;\n",
       "    }\n",
       "\n",
       "    .dataframe thead th {\n",
       "        text-align: right;\n",
       "    }\n",
       "</style>\n",
       "<table border=\"1\" class=\"dataframe\">\n",
       "  <thead>\n",
       "    <tr style=\"text-align: right;\">\n",
       "      <th></th>\n",
       "      <th>SYMPTOM_TEXT</th>\n",
       "      <th>Symptoms</th>\n",
       "    </tr>\n",
       "  </thead>\n",
       "  <tbody>\n",
       "    <tr>\n",
       "      <td>0</td>\n",
       "      <td>Right side of epiglottis swelled up and hinder...</td>\n",
       "      <td>Dysphagia,Epiglottitis</td>\n",
       "    </tr>\n",
       "    <tr>\n",
       "      <td>1</td>\n",
       "      <td>Approximately 30 min post vaccination administ...</td>\n",
       "      <td>Anxiety,Dyspnoea</td>\n",
       "    </tr>\n",
       "    <tr>\n",
       "      <td>2</td>\n",
       "      <td>About 15 minutes after receiving the vaccine, ...</td>\n",
       "      <td>Chest discomfort,Dysphagia,Pain in extremity,V...</td>\n",
       "    </tr>\n",
       "    <tr>\n",
       "      <td>3</td>\n",
       "      <td>extreme fatigue, dizziness,. could not lift my...</td>\n",
       "      <td>Dizziness,Fatigue,Mobility decreased</td>\n",
       "    </tr>\n",
       "    <tr>\n",
       "      <td>4</td>\n",
       "      <td>Injection site swelling, redness, warm to the ...</td>\n",
       "      <td>Injection site erythema,Injection site pruritu...</td>\n",
       "    </tr>\n",
       "  </tbody>\n",
       "</table>\n",
       "</div>"
      ],
      "text/plain": [
       "                                        SYMPTOM_TEXT  \\\n",
       "0  Right side of epiglottis swelled up and hinder...   \n",
       "1  Approximately 30 min post vaccination administ...   \n",
       "2  About 15 minutes after receiving the vaccine, ...   \n",
       "3  extreme fatigue, dizziness,. could not lift my...   \n",
       "4  Injection site swelling, redness, warm to the ...   \n",
       "\n",
       "                                            Symptoms  \n",
       "0                             Dysphagia,Epiglottitis  \n",
       "1                                   Anxiety,Dyspnoea  \n",
       "2  Chest discomfort,Dysphagia,Pain in extremity,V...  \n",
       "3               Dizziness,Fatigue,Mobility decreased  \n",
       "4  Injection site erythema,Injection site pruritu...  "
      ]
     },
     "execution_count": 6,
     "metadata": {},
     "output_type": "execute_result"
    }
   ],
   "source": [
    "trainingData.head()"
   ]
  },
  {
   "cell_type": "code",
   "execution_count": 15,
   "metadata": {},
   "outputs": [
    {
     "data": {
      "text/plain": [
       "Headache                                       81866\n",
       "Pyrexia                                        67379\n",
       "Fatigue                                        65927\n",
       "Chills                                         61963\n",
       "Pain                                           60330\n",
       "                                               ...  \n",
       "Specific gravity body fluid                        1\n",
       "Cartilage atrophy                                  1\n",
       "Gastrointestinal surgery                           1\n",
       "Antimicrobial susceptibility test resistant        1\n",
       "Dry skin prophylaxis                               1\n",
       "Length: 9084, dtype: int64"
      ]
     },
     "execution_count": 15,
     "metadata": {},
     "output_type": "execute_result"
    }
   ],
   "source": [
    "trainingData['Symptoms'].str.split(',', expand=True).stack().value_counts()"
   ]
  },
  {
   "cell_type": "code",
   "execution_count": 21,
   "metadata": {},
   "outputs": [
    {
     "data": {
      "text/plain": [
       "(561558, 2)"
      ]
     },
     "execution_count": 21,
     "metadata": {},
     "output_type": "execute_result"
    }
   ],
   "source": [
    "trainingData.shape"
   ]
  },
  {
   "cell_type": "code",
   "execution_count": 18,
   "metadata": {},
   "outputs": [],
   "source": [
    "top2=['Headache','Pyrexia']"
   ]
  },
  {
   "cell_type": "code",
   "execution_count": 34,
   "metadata": {},
   "outputs": [],
   "source": [
    "top2Data=trainingData[trainingData[\"Symptoms\"].str.contains(\"Headache|Pyrexia\")==True]"
   ]
  },
  {
   "cell_type": "code",
   "execution_count": 37,
   "metadata": {},
   "outputs": [
    {
     "data": {
      "text/plain": [
       "5     Chills,Confusional state,Eye inflammation,Head...\n",
       "6              Pyrexia,White blood cell count decreased\n",
       "13    Dyspnoea,Fatigue,Feeling abnormal,Head discomf...\n",
       "15    Nausea,Pain,Pain in extremity,Paraesthesia ora...\n",
       "21    Chills,Dizziness,Injection site pain,Myalgia,P...\n",
       "24    Arthralgia,Chills,Headache,Mobility decreased,...\n",
       "25                     Nausea,Pain in extremity,Pyrexia\n",
       "26                      Chills,Fatigue,Headache,Myalgia\n",
       "27    Headache,Heart rate increased,Injection site e...\n",
       "36                     Asthenia,Chills,Headache,Myalgia\n",
       "Name: Symptoms, dtype: object"
      ]
     },
     "execution_count": 37,
     "metadata": {},
     "output_type": "execute_result"
    }
   ],
   "source": [
    "top2Data[\"Symptoms\"].head(10)"
   ]
  },
  {
   "cell_type": "code",
   "execution_count": 38,
   "metadata": {},
   "outputs": [
    {
     "data": {
      "text/plain": [
       "(134415, 2)"
      ]
     },
     "execution_count": 38,
     "metadata": {},
     "output_type": "execute_result"
    }
   ],
   "source": [
    "top2Data.shape"
   ]
  },
  {
   "cell_type": "code",
   "execution_count": 40,
   "metadata": {},
   "outputs": [],
   "source": [
    "top2Data.to_csv('Top2AE.csv')"
   ]
  },
  {
   "cell_type": "code",
   "execution_count": 3,
   "metadata": {},
   "outputs": [
    {
     "name": "stderr",
     "output_type": "stream",
     "text": [
      "C:\\ProgramData\\Anaconda3\\lib\\site-packages\\IPython\\core\\interactiveshell.py:3058: DtypeWarning: Columns (3,4) have mixed types. Specify dtype option on import or set low_memory=False.\n",
      "  interactivity=interactivity, compiler=compiler, result=result)\n"
     ]
    }
   ],
   "source": [
    "top2=pd.read_csv(r\"Top2AE.csv\")"
   ]
  },
  {
   "cell_type": "code",
   "execution_count": 6,
   "metadata": {},
   "outputs": [],
   "source": [
    "x=top2[:542]"
   ]
  },
  {
   "cell_type": "code",
   "execution_count": 9,
   "metadata": {},
   "outputs": [],
   "source": [
    "x=x.drop('Unnamed: 4',axis=1)"
   ]
  },
  {
   "cell_type": "code",
   "execution_count": 11,
   "metadata": {},
   "outputs": [],
   "source": [
    "x=x.drop('Unnamed: 0',axis=1)"
   ]
  },
  {
   "cell_type": "code",
   "execution_count": 12,
   "metadata": {},
   "outputs": [
    {
     "data": {
      "text/html": [
       "<div>\n",
       "<style scoped>\n",
       "    .dataframe tbody tr th:only-of-type {\n",
       "        vertical-align: middle;\n",
       "    }\n",
       "\n",
       "    .dataframe tbody tr th {\n",
       "        vertical-align: top;\n",
       "    }\n",
       "\n",
       "    .dataframe thead th {\n",
       "        text-align: right;\n",
       "    }\n",
       "</style>\n",
       "<table border=\"1\" class=\"dataframe\">\n",
       "  <thead>\n",
       "    <tr style=\"text-align: right;\">\n",
       "      <th></th>\n",
       "      <th>SYMPTOM_TEXT</th>\n",
       "      <th>Symptoms</th>\n",
       "      <th>textCptured</th>\n",
       "    </tr>\n",
       "  </thead>\n",
       "  <tbody>\n",
       "    <tr>\n",
       "      <td>537</td>\n",
       "      <td>HEAD ACHE AND LOW GRADE FEVER WITHIN 24 HOURS ...</td>\n",
       "      <td>Body temperature increased,Headache,Productive...</td>\n",
       "      <td>headache, fever</td>\n",
       "    </tr>\n",
       "    <tr>\n",
       "      <td>538</td>\n",
       "      <td>Irregular heartbeat and hives 10 minutes after...</td>\n",
       "      <td>Arthralgia,Chills,Fatigue,Headache,Heart rate ...</td>\n",
       "      <td>headache</td>\n",
       "    </tr>\n",
       "    <tr>\n",
       "      <td>539</td>\n",
       "      <td>upset stomach, headache, neck ache</td>\n",
       "      <td>Abdominal discomfort,Headache,Neck pain</td>\n",
       "      <td>headache</td>\n",
       "    </tr>\n",
       "    <tr>\n",
       "      <td>540</td>\n",
       "      <td>I became very fatigued , no energy  for daily ...</td>\n",
       "      <td>Asthenia,Cough,Exposure to SARS-CoV-2,Fatigue,...</td>\n",
       "      <td>headache, fever</td>\n",
       "    </tr>\n",
       "    <tr>\n",
       "      <td>541</td>\n",
       "      <td>I became very fatigued , no energy  for daily ...</td>\n",
       "      <td>Impaired work ability,Nasal congestion,Pyrexia...</td>\n",
       "      <td>headache</td>\n",
       "    </tr>\n",
       "  </tbody>\n",
       "</table>\n",
       "</div>"
      ],
      "text/plain": [
       "                                          SYMPTOM_TEXT  \\\n",
       "537  HEAD ACHE AND LOW GRADE FEVER WITHIN 24 HOURS ...   \n",
       "538  Irregular heartbeat and hives 10 minutes after...   \n",
       "539                 upset stomach, headache, neck ache   \n",
       "540  I became very fatigued , no energy  for daily ...   \n",
       "541  I became very fatigued , no energy  for daily ...   \n",
       "\n",
       "                                              Symptoms      textCptured  \n",
       "537  Body temperature increased,Headache,Productive...  headache, fever  \n",
       "538  Arthralgia,Chills,Fatigue,Headache,Heart rate ...         headache  \n",
       "539            Abdominal discomfort,Headache,Neck pain         headache  \n",
       "540  Asthenia,Cough,Exposure to SARS-CoV-2,Fatigue,...  headache, fever  \n",
       "541  Impaired work ability,Nasal congestion,Pyrexia...         headache  "
      ]
     },
     "execution_count": 12,
     "metadata": {},
     "output_type": "execute_result"
    }
   ],
   "source": [
    "x.tail()"
   ]
  },
  {
   "cell_type": "code",
   "execution_count": 13,
   "metadata": {},
   "outputs": [],
   "source": [
    "x.to_csv('DataToBeUsed.csv')"
   ]
  },
  {
   "cell_type": "code",
   "execution_count": null,
   "metadata": {},
   "outputs": [],
   "source": []
  }
 ],
 "metadata": {
  "kernelspec": {
   "display_name": "Python 3",
   "language": "python",
   "name": "python3"
  },
  "language_info": {
   "codemirror_mode": {
    "name": "ipython",
    "version": 3
   },
   "file_extension": ".py",
   "mimetype": "text/x-python",
   "name": "python",
   "nbconvert_exporter": "python",
   "pygments_lexer": "ipython3",
   "version": "3.7.4"
  }
 },
 "nbformat": 4,
 "nbformat_minor": 2
}
